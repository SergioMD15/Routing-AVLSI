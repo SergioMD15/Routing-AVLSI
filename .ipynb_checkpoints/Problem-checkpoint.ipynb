{
 "cells": [
  {
   "cell_type": "markdown",
   "metadata": {},
   "source": [
    "# Routing\n",
    "\n",
    "## Problem statement\n",
    "\n",
    "## PuLP\n"
   ]
  },
  {
   "cell_type": "code",
   "execution_count": 12,
   "metadata": {},
   "outputs": [],
   "source": [
    "import pulp\n",
    "import pandas as pd\n",
    "from collections import defaultdict\n",
    "import json\n",
    "import numpy as np\n",
    "import matplotlib.pyplot as plt"
   ]
  },
  {
   "cell_type": "code",
   "execution_count": 13,
   "metadata": {},
   "outputs": [],
   "source": [
    "def read_json(filename):\n",
    "    with open(filename) as file:\n",
    "        json_file = json.load(file)\n",
    "    return json_file"
   ]
  },
  {
   "cell_type": "code",
   "execution_count": 14,
   "metadata": {},
   "outputs": [],
   "source": [
    "folder = 'data/'\n",
    "filename = '10x10.json'\n",
    "json_file = read_json(folder + filename)\n",
    "\n",
    "dim = json_file['dimension']\n",
    "pin_location = json_file['pins']\n",
    "nPoints = len(pin_location)\n",
    "P = range(nPoints)\n",
    "D = range(dim)\n",
    "\n",
    "pulp_instance = pulp.LpProblem(\"Routing\", pulp.LpMinimize)"
   ]
  },
  {
   "cell_type": "markdown",
   "metadata": {},
   "source": [
    "# Variables and Objective Function"
   ]
  },
  {
   "cell_type": "code",
   "execution_count": 15,
   "metadata": {},
   "outputs": [],
   "source": [
    "boards = pulp.LpVariable.dicts('boards', ((p, d1, d2) for p in P for d1 in D for d2 in D)\n",
    "                               , cat='Integer', lowBound=0, upBound=1)\n",
    "main_board = pulp.LpVariable.dicts('main_board', ((d1, d2) for d1 in D for d2 in D)\n",
    "                                   , cat='Integer', lowBound=0, upBound=1)\n",
    "pulp_instance += pulp.lpSum([main_board[d,d2] for d in D for d2 in D])"
   ]
  },
  {
   "cell_type": "markdown",
   "metadata": {},
   "source": [
    "# Constraints"
   ]
  },
  {
   "cell_type": "code",
   "execution_count": 16,
   "metadata": {},
   "outputs": [],
   "source": [
    "## CONSTRAINT 1: EACH PAIR OF POINTS BELONGS TO A SINGLE BOARD\n",
    "for p in P:\n",
    "    pulp_instance += boards[p, pin_location[p][0][0], pin_location[p][0][1]] == 1\n",
    "    pulp_instance += boards[p, pin_location[p][1][0], pin_location[p][1][1]] == 1"
   ]
  },
  {
   "cell_type": "code",
   "execution_count": 17,
   "metadata": {},
   "outputs": [],
   "source": [
    "## CONSTRAINT 2: THE MARKED POSITIONS HAVE TO BE DIFFERENT\n",
    "## AMONG ALL THE PANELS (AVOID COLLISIONS).\n",
    "for p in P:\n",
    "    for p2 in P:\n",
    "        if p != p2:\n",
    "            for d in D:\n",
    "                for d2 in D:\n",
    "                    pulp_instance += (1 - boards[p, d, d2]) >= boards[p2, d, d2];"
   ]
  },
  {
   "cell_type": "code",
   "execution_count": 18,
   "metadata": {},
   "outputs": [],
   "source": [
    "## CONSTRAINT 3: ALL MARKED POSITIONS IN INDIVIDUAL BOARDS\n",
    "## HAVE TO APPEAR IN THE GENERAL BOARD\n",
    "for p in P:\n",
    "    for d in D:\n",
    "        for d2 in D:\n",
    "            pulp_instance += boards[p, d, d2] <= main_board[d, d2];"
   ]
  },
  {
   "cell_type": "code",
   "execution_count": 19,
   "metadata": {},
   "outputs": [],
   "source": [
    "def is_pin(p, location):\n",
    "    return location in pin_location[p]"
   ]
  },
  {
   "cell_type": "code",
   "execution_count": 20,
   "metadata": {},
   "outputs": [],
   "source": [
    "def check_left(p, d, d2):\n",
    "    if d2 > 0:\n",
    "        return (boards[p, d, d2 - 1], 1)\n",
    "    else:\n",
    "        return (0, 0)\n",
    "    \n",
    "def check_right(p, d, d2):\n",
    "    if d2 < dim - 1:\n",
    "        return (boards[p, d, d2 + 1], 1)\n",
    "    else:\n",
    "        return (0, 0)\n",
    "        \n",
    "def check_above(p, d, d2):\n",
    "    if d > 0:\n",
    "        return (boards[p, d - 1, d2], 1)\n",
    "    else:\n",
    "        return (0, 0)\n",
    "            \n",
    "def check_below(p, d, d2):\n",
    "    if d < dim - 1:\n",
    "        return (boards[p, d + 1, d2], 1)\n",
    "    else:\n",
    "        return (0,0)\n",
    "\n",
    "def check_neighbors(p, d, d2):\n",
    "    neighborhood = [check_left(p, d, d2), check_right(p, d, d2), \\\n",
    "        check_above(p, d, d2), check_below(p, d, d2)]\n",
    "    \n",
    "    return (sum([i[0] for i in neighborhood]),sum([i[1] for i in neighborhood]))\n",
    "            "
   ]
  },
  {
   "cell_type": "code",
   "execution_count": 21,
   "metadata": {},
   "outputs": [],
   "source": [
    "## CONSTRAINT 4: NEIGHBOURHOOD OF PINS AND NO PIN VALUES:\n",
    "## - PINS: MUST HAVE EXACTLY ONE NEIGHBOUR\n",
    "## - NO PINS: THERE ARE TWO CASES:\n",
    "##   + WHERE WIRES ARE PASSING: MUST HAVE EXACTLY TWO NEIGHBOURS\n",
    "##   + WHERE NOT WIRES ARE PASSING: DEPENDS ON THE CELL OF THE NO PIN.\n",
    "for p in P:\n",
    "    for d in D:\n",
    "        for d2 in D:\n",
    "            num_neigh, upper_bound = check_neighbors(p, d, d2)\n",
    "            lower_bound = -2\n",
    "            if is_pin(p, [d, d2]):\n",
    "                pulp_instance += num_neigh == 1\n",
    "            else:\n",
    "                ## board[p,d,d2] == 1 --> SUM == 2\n",
    "                ## board[p,d,d2] == 1 --> SUM <= 2 && board[p,d,d2] == 1 --> SUM >= 2\n",
    "                pulp_instance += num_neigh - 2 <= upper_bound*(1 - boards[p,d,d2])\n",
    "                \n",
    "                pulp_instance += num_neigh - 2 >= lower_bound*(1 - boards[p,d,d2])"
   ]
  },
  {
   "cell_type": "markdown",
   "metadata": {},
   "source": [
    "# Solution"
   ]
  },
  {
   "cell_type": "code",
   "execution_count": 22,
   "metadata": {},
   "outputs": [
    {
     "name": "stdout",
     "output_type": "stream",
     "text": [
      "Optimal\n"
     ]
    }
   ],
   "source": [
    "solution = pulp_instance.solve()\n",
    "print(pulp.LpStatus[solution])"
   ]
  },
  {
   "cell_type": "code",
   "execution_count": 23,
   "metadata": {},
   "outputs": [],
   "source": [
    "def get_triplet(string):\n",
    "    str_l = string.split(',_')\n",
    "    return [int(str_l[0][1]), int(str_l[1]), int(str_l[2][0])]"
   ]
  },
  {
   "cell_type": "code",
   "execution_count": 24,
   "metadata": {
    "scrolled": true
   },
   "outputs": [],
   "source": [
    "def convert_to_dict():\n",
    "    dictionary = defaultdict(list)\n",
    "    points_no_clean = [boards[i].name.split('s_')[1] for i in boards if boards[i].value() != 0]\n",
    "    for i in points_no_clean:\n",
    "        triplet = get_triplet(i)\n",
    "        dictionary[triplet.pop(0)] += [triplet]\n",
    "    return dictionary"
   ]
  },
  {
   "cell_type": "code",
   "execution_count": 25,
   "metadata": {},
   "outputs": [],
   "source": [
    "def save_board():\n",
    "    points = convert_to_dict()\n",
    "    with open(folder + 'results_' + filename, 'w') as fp:\n",
    "        json.dump(points, fp, indent=4)\n",
    "    return points"
   ]
  },
  {
   "cell_type": "code",
   "execution_count": 26,
   "metadata": {},
   "outputs": [],
   "source": [
    "m = save_board()"
   ]
  },
  {
   "cell_type": "code",
   "execution_count": 74,
   "metadata": {},
   "outputs": [
    {
     "data": {
      "text/plain": [
       "<matplotlib.image.AxesImage at 0x7f0ccb0186d8>"
      ]
     },
     "execution_count": 74,
     "metadata": {},
     "output_type": "execute_result"
    },
    {
     "data": {
      "image/png": "[encoded data removed]",
      "text/plain": [
       "<matplotlib.figure.Figure at 0x7f0ccb0d4ba8>"
      ]
     },
     "metadata": {
      "needs_background": "light"
     },
     "output_type": "display_data"
    }
   ],
   "source": [
    "board = np.zeros(shape=(dim, dim))\n",
    "\n",
    "for color in m:\n",
    "    for point in m[color]:\n",
    "        board[point[0], point[1]] = int(color)\n",
    "\n",
    "plt.imshow(board,  cmap='jet')"
   ]
  }
 ],
 "metadata": {
  "kernelspec": {
   "display_name": "Python 3",
   "language": "python",
   "name": "python3"
  },
  "language_info": {
   "codemirror_mode": {
    "name": "ipython",
    "version": 3
   },
   "file_extension": ".py",
   "mimetype": "text/x-python",
   "name": "python",
   "nbconvert_exporter": "python",
   "pygments_lexer": "ipython3",
   "version": "3.6.8"
  }
 },
 "nbformat": 4,
 "nbformat_minor": 2
}
